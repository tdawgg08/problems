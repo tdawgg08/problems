{
 "cells": [
  {
   "cell_type": "markdown",
   "id": "e6e7dd31",
   "metadata": {},
   "source": [
    "# Кузнечик 2D #\n",
    "В левом-нижнем углу прямоугольной клетчатой доски размером n × m стоит k-кузнечик. За один ход k-кузнечик перемещается по доске вправо, вверх или вправо-вверх по диагонали не более чем на k клеток.\n",
    "\n",
    "\n",
    "Возможные ходы k-кузнечика для k = 3.\n",
    "Необходимо передвинуть k-кузнечика в правый верхний угол доски в клетку (n, m). За какое минимальное число ходов можно передвинуть k-кузнечика из клетки (1, 1) в клетку (n, m)?\n",
    "\n",
    "### Входные данные ###\n",
    "В первой строке входного файла INPUT.TXT заданы три целых числа n, m и k – размеры сторон доски и максимальное число клеток, на которое может ходить k-кузнечик, соответственно (1 ≤ n, m, ≤ 109).\n",
    "\n",
    "### Выходные данные ###\n",
    "В выходной файл OUTPUT.TXT выведите одно число – минимальное число ходов, необходимое, чтобы передвинуть k-кузнечика из клетки (1, 1) в клетку (n, m).\n",
    "\n",
    "### Примеры\n",
    "|№ |\tINPUT.TXT |\tOUTPUT.TXT|\n",
    "|--|--------------|-----------|\n",
    "|1 |\t9 8 5\t  |   3       |\n",
    "|2 |\t2 2 1\t  |   1       |\n",
    "\n",
    "<https://acmp.ru/asp/do/index.asp?main=task&id_course=3&id_section=24&id_topic=384&id_problem=2449>"
   ]
  },
  {
   "cell_type": "code",
   "execution_count": 42,
   "id": "2aaeb224",
   "metadata": {},
   "outputs": [
    {
     "name": "stdout",
     "output_type": "stream",
     "text": [
      "1\n"
     ]
    }
   ],
   "source": [
    "n, m, k = map(int, input().split())\n",
    "\n",
    "diagonal = (min(n, m) - 1) / k\n",
    "if not diagonal.is_integer():\n",
    "    diagonal = round(diagonal) + 1\n",
    "if diagonal == 0:\n",
    "    diagonal = 1    \n",
    "rest = (max(m, n) - min(m, n)) / k\n",
    "if not rest.is_integer():\n",
    "    rest = round(rest) + 1   \n",
    "print(round(rest + diagonal))"
   ]
  },
  {
   "cell_type": "code",
   "execution_count": null,
   "id": "b611442d",
   "metadata": {},
   "outputs": [
    {
     "name": "stdout",
     "output_type": "stream",
     "text": [
      "True\n"
     ]
    }
   ],
   "source": [
    "def huesos(n) -> bool:\n",
    "    return False if n.is_integer() else True\n",
    "\n",
    "print(huesos(33))"
   ]
  }
 ],
 "metadata": {
  "kernelspec": {
   "display_name": ".venv",
   "language": "python",
   "name": "python3"
  },
  "language_info": {
   "codemirror_mode": {
    "name": "ipython",
    "version": 3
   },
   "file_extension": ".py",
   "mimetype": "text/x-python",
   "name": "python",
   "nbconvert_exporter": "python",
   "pygments_lexer": "ipython3",
   "version": "3.12.6"
  }
 },
 "nbformat": 4,
 "nbformat_minor": 5
}
