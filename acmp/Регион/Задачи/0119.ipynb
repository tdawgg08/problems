{
 "cells": [
  {
   "cell_type": "markdown",
   "id": "3d99051c",
   "metadata": {},
   "source": [
    "# 0119 #\n",
    "### 23% ###\n",
    "\n",
    "Требуется выполнить сортировку временных моментов, заданных в часах, минутах и секундах.\n",
    "\n",
    "Входные данные\n",
    "Во входном файле INPUT.TXT в первой строке записано число N (1 ≤ N ≤ 100), а в последующих N строках N моментов времени. Каждый момент времени задается 3 целыми числами - часы (от 0 до 23), минуты (от 0 до 59) и секунды (от 0 до 59).\n",
    "\n",
    "Выходные данные\n",
    "В выходной файл OUTPUT.TXT выведите моменты времени, упорядоченные в порядке неубывания без ведущих нулей.\n",
    "\n",
    "<https://acmp.ru/asp/do/index.asp?main=task&id_course=2&id_section=12&id_topic=8&id_problem=36>"
   ]
  },
  {
   "cell_type": "markdown",
   "id": "ddae5b55",
   "metadata": {},
   "source": []
  },
  {
   "cell_type": "code",
   "execution_count": 13,
   "id": "a4dd99ff",
   "metadata": {},
   "outputs": [
    {
     "name": "stdout",
     "output_type": "stream",
     "text": [
      "2 2 2\n",
      "23 23 23\n"
     ]
    }
   ],
   "source": [
    "N = int(input())\n",
    "work = []\n",
    "\n",
    "while N > 0:\n",
    "    times = list(map(int, input().split())) \n",
    "    N -= 1\n",
    "    work.append(times)\n",
    "work.sort()\n",
    "for time in work:\n",
    "    print(time[0], time[1], time[2])   \n",
    "# хуйня вариант "
   ]
  },
  {
   "cell_type": "code",
   "execution_count": null,
   "id": "83205889",
   "metadata": {},
   "outputs": [
    {
     "ename": "TypeError",
     "evalue": "__main__.seconds() argument after * must be an iterable, not int",
     "output_type": "error",
     "traceback": [
      "\u001b[1;31m---------------------------------------------------------------------------\u001b[0m",
      "\u001b[1;31mTypeError\u001b[0m                                 Traceback (most recent call last)",
      "Cell \u001b[1;32mIn[14], line 17\u001b[0m\n\u001b[0;32m     14\u001b[0m min_idx \u001b[38;5;241m=\u001b[39m i\n\u001b[0;32m     15\u001b[0m \u001b[38;5;28;01mfor\u001b[39;00m j \u001b[38;5;129;01min\u001b[39;00m \u001b[38;5;28mrange\u001b[39m(i \u001b[38;5;241m+\u001b[39m \u001b[38;5;241m1\u001b[39m, N):\n\u001b[0;32m     16\u001b[0m     \u001b[38;5;66;03m# Сравниваем моменты времени через секунды\u001b[39;00m\n\u001b[1;32m---> 17\u001b[0m     \u001b[38;5;28;01mif\u001b[39;00m \u001b[43mseconds\u001b[49m\u001b[43m(\u001b[49m\u001b[38;5;241;43m*\u001b[39;49m\u001b[43mtimes\u001b[49m\u001b[43m[\u001b[49m\u001b[43mj\u001b[49m\u001b[43m]\u001b[49m\u001b[43m)\u001b[49m \u001b[38;5;241m<\u001b[39m seconds(\u001b[38;5;241m*\u001b[39mtimes[min_idx]):\n\u001b[0;32m     18\u001b[0m         min_idx \u001b[38;5;241m=\u001b[39m j\n\u001b[0;32m     19\u001b[0m times[i], times[min_idx] \u001b[38;5;241m=\u001b[39m times[min_idx], times[i]\n",
      "\u001b[1;31mTypeError\u001b[0m: __main__.seconds() argument after * must be an iterable, not int"
     ]
    }
   ],
   "source": [
    "N = int(input())\n",
    "data = [list(map(int, input().split())) for _ in range(N)]\n",
    "\n",
    "def seconds(h, m, s):\n",
    "    return h * 3600 + m * 60 + s\n",
    "\n",
    "def hh_mm_ss(total_seconds):\n",
    "    h = total_seconds // 3600\n",
    "    m = (total_seconds % 3600) // 60\n",
    "    s = (total_seconds % 3600) % 60\n",
    "    return (h, m, s)\n",
    "\n",
    "for i in range(N):\n",
    "    min_idx = i\n",
    "    for j in range(i + 1, N):\n",
    "        # Сравниваем моменты времени через секунды\n",
    "        if seconds(*times[j]) < seconds(*times[min_idx]):\n",
    "            min_idx = j\n",
    "    times[i], times[min_idx] = times[min_idx], times[i]\n",
    "\n",
    "# Вывод результатов\n",
    "for time in times:\n",
    "    print(hh_mm_ss(time))\n",
    "\n",
    "# ХУЙНЯ ЕБАННАЯ Я РОТ ЕБАЛ БЛЯТЬ НЕ РЕШЕНО     "
   ]
  },
  {
   "cell_type": "code",
   "execution_count": null,
   "id": "d9e7a25e",
   "metadata": {},
   "outputs": [],
   "source": []
  }
 ],
 "metadata": {
  "kernelspec": {
   "display_name": "Python 3",
   "language": "python",
   "name": "python3"
  },
  "language_info": {
   "codemirror_mode": {
    "name": "ipython",
    "version": 3
   },
   "file_extension": ".py",
   "mimetype": "text/x-python",
   "name": "python",
   "nbconvert_exporter": "python",
   "pygments_lexer": "ipython3",
   "version": "3.12.5"
  }
 },
 "nbformat": 4,
 "nbformat_minor": 5
}
