{
 "cells": [
  {
   "cell_type": "markdown",
   "id": "3263f9e3",
   "metadata": {},
   "source": [
    "### 0009 ####\n",
    "# 27% #\n",
    "Петя успевает по математике лучше всех в классе, поэтому учитель задал ему сложное домашнее задание, в котором нужно в заданном наборе целых чисел найти сумму всех положительных элементов, затем найти где в заданной последовательности находятся максимальный и минимальный элемент и вычислить произведение чисел, расположенных в этой последовательности между ними. Так же известно, что минимальный и максимальный элемент встречаются в заданном множестве чисел только один раз и не являются соседними. Поскольку задач такого рода учитель дал Пете около ста, то Петя как сильный программист смог написать программу, которая по заданному набору чисел самостоятельно находит решение. А Вам слабо?\n",
    "\n",
    "<https://acmp.ru/index.asp?main=task&id_task=9>"
   ]
  },
  {
   "cell_type": "code",
   "execution_count": 29,
   "id": "c3617df9",
   "metadata": {},
   "outputs": [
    {
     "name": "stdout",
     "output_type": "stream",
     "text": [
      "17 -15\n"
     ]
    }
   ],
   "source": [
    "a = int(input())\n",
    "b = list(map(int, input().split()))\n",
    "\n",
    "k = 1\n",
    "\n",
    "suma = sum(x for x in b if x > 0)   \n",
    "min_value = min(b)\n",
    "max_value = max(b)\n",
    "\n",
    "start = min(b.index(min_value), b.index(max_value)) + 1\n",
    "end = max(b.index(min_value), b.index(max_value))\n",
    "\n",
    "for i in range(start, end):\n",
    "    k *= b[i]\n",
    "\n",
    "print(suma, k)\n",
    "\n",
    "\n",
    "#5\n",
    "#-7 5 -1 3 9\n",
    "\n",
    "\n",
    "\n",
    "\n",
    "\n"
   ]
  }
 ],
 "metadata": {
  "kernelspec": {
   "display_name": "Python 3",
   "language": "python",
   "name": "python3"
  },
  "language_info": {
   "codemirror_mode": {
    "name": "ipython",
    "version": 3
   },
   "file_extension": ".py",
   "mimetype": "text/x-python",
   "name": "python",
   "nbconvert_exporter": "python",
   "pygments_lexer": "ipython3",
   "version": "3.12.5"
  }
 },
 "nbformat": 4,
 "nbformat_minor": 5
}
