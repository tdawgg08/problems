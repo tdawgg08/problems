{
 "cells": [
  {
   "cell_type": "markdown",
   "id": "f8097922",
   "metadata": {},
   "source": [
    "### 1702 ###\n",
    "# 24% #\n",
    "В этой задаче вам предлагается реализовать сортировку выбором.\n",
    "\n",
    "Задан массив целых чисел a0, a1, …, an−1. Отсортируем его следующим образом:\n",
    "\n",
    "выберем наибольший элемент массива и поменяем его местами с последним элементом (если последний и есть найденный максимум, то обмен можно не совершать),\n",
    "исключим из рассмотрения последний элемент и если длина оставшегося участка больше нуля перейдем опять к предыдущему пункту.\n",
    "Таким образом, этот алгоритм состоит их n фаз, на каждой из которых выбирается максимум. Ваша задача реализовать эту сортировку описанным способом и вывести n чисел — индексы максимума на каждой из n фаз. Если максимум встречается более одного раза, то надо всегда выбирать первый из них.\n",
    "\n",
    "\n",
    "<https://acmp.ru/asp/do/index.asp?main=task&id_course=2&id_section=12&id_topic=8&id_problem=739>"
   ]
  },
  {
   "cell_type": "code",
   "execution_count": 8,
   "id": "119492bf",
   "metadata": {},
   "outputs": [
    {
     "name": "stdout",
     "output_type": "stream",
     "text": [
      "5\n",
      "4\n",
      "3\n",
      "3\n",
      "4\n",
      "5\n",
      "[5, 6, 7, 8, 9, 10]\n"
     ]
    }
   ],
   "source": [
    "a = list(map(int, input().split()))\n",
    "for i in range(len(a)):\n",
    "    min_idx = min(range(i, len(a)), key = lambda x: a[x])\n",
    "    print(min_idx)\n",
    "    a[i], a[min_idx] = a[min_idx], a[i]\n",
    "print(a)    "
   ]
  },
  {
   "cell_type": "code",
   "execution_count": 11,
   "id": "3e17a0c5",
   "metadata": {},
   "outputs": [
    {
     "name": "stdout",
     "output_type": "stream",
     "text": [
      "0 3 1 1 0\n"
     ]
    }
   ],
   "source": [
    "n = int(input())\n",
    "k = list(map(int, input().split()))\n",
    "output = []\n",
    "for i in range(n):\n",
    "    current = k[:n - i]\n",
    "    max_x = max(current)\n",
    "    id_x = current.index(max_x)\n",
    "    output.append(id_x)\n",
    "    k[i], k[n - i - 1] = k[n - i - 1], k[i]\n",
    "print(*output)    "
   ]
  },
  {
   "cell_type": "code",
   "execution_count": 7,
   "id": "ac9b2cf8",
   "metadata": {},
   "outputs": [
    {
     "name": "stdout",
     "output_type": "stream",
     "text": [
      "Random numbers between 1 and 10: range(1, 10)\n"
     ]
    }
   ],
   "source": [
    "random_numbers = range(1, 10)\n",
    "print(\"Random numbers between 1 and 10:\", random_numbers)"
   ]
  },
  {
   "cell_type": "code",
   "execution_count": 3,
   "id": "e8b021ee",
   "metadata": {},
   "outputs": [
    {
     "name": "stdout",
     "output_type": "stream",
     "text": [
      "0\n",
      "1\n",
      "2\n",
      "3\n",
      "4\n",
      "5\n"
     ]
    }
   ],
   "source": [
    "c = list(map(int, input().split()))\n",
    "for i in range(len(c)):\n",
    "    minin = min(range(i, len(c)))\n",
    "    print(minin)"
   ]
  }
 ],
 "metadata": {
  "kernelspec": {
   "display_name": "Python 3",
   "language": "python",
   "name": "python3"
  },
  "language_info": {
   "codemirror_mode": {
    "name": "ipython",
    "version": 3
   },
   "file_extension": ".py",
   "mimetype": "text/x-python",
   "name": "python",
   "nbconvert_exporter": "python",
   "pygments_lexer": "ipython3",
   "version": "3.12.5"
  }
 },
 "nbformat": 4,
 "nbformat_minor": 5
}
