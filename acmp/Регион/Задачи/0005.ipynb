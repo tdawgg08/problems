{
 "cells": [
  {
   "cell_type": "markdown",
   "id": "db5435c6",
   "metadata": {},
   "source": [
    "# 005 #\n",
    "### 15% ###\n",
    "Вася не любит английский язык, но каждый раз старается получить хотя бы четверку за четверть, чтобы оставаться ударником. В текущей четверти Вася заметил следующую закономерность: по нечетным дням месяца он получал тройки, а по четным – четверки. Так же он помнит, в какие дни он получал эти оценки. Поэтому он выписал на бумажке все эти дни для того, чтобы оценить, сколько у него троек и сколько четверок. Помогите Васе это сделать, расположив четные и нечетные числа в разных строчках. Вася может рассчитывать на оценку 4, если четверок не меньше, чем троек.\n",
    "\n",
    "<https://acmp.ru/index.asp?main=task&id_task=5>"
   ]
  },
  {
   "cell_type": "code",
   "execution_count": 1,
   "id": "8c8f7f42",
   "metadata": {},
   "outputs": [
    {
     "name": "stdout",
     "output_type": "stream",
     "text": [
      "15 17\n",
      "14\n",
      "NO\n"
     ]
    }
   ],
   "source": [
    "def statics_marks(quantity: int, days: list):\n",
    "    three = []\n",
    "    four = []\n",
    "\n",
    "    for i in days:\n",
    "        if i % 2 != 0:\n",
    "            three.append(i)\n",
    "        else:\n",
    "            four.append(i)\n",
    "    three_str = ' '.join(map(str, three))\n",
    "    four_str = ' '.join(map(str, four))\n",
    "\n",
    "    if len(three) > len(four):\n",
    "        return f'{three_str}\\n{four_str}\\nNO'\n",
    "    else:\n",
    "        return f'{three_str}\\n{four_str}\\nYES'\n",
    "\n",
    "quantity = int(input())\n",
    "days = map(int, input().split())\n",
    "print(statics_marks(quantity = quantity, days = days))\n",
    "\n",
    "# да я вообще далбаеб да, но главное тест прошел "
   ]
  }
 ],
 "metadata": {
  "kernelspec": {
   "display_name": "Python 3",
   "language": "python",
   "name": "python3"
  },
  "language_info": {
   "codemirror_mode": {
    "name": "ipython",
    "version": 3
   },
   "file_extension": ".py",
   "mimetype": "text/x-python",
   "name": "python",
   "nbconvert_exporter": "python",
   "pygments_lexer": "ipython3",
   "version": "3.12.5"
  }
 },
 "nbformat": 4,
 "nbformat_minor": 5
}
