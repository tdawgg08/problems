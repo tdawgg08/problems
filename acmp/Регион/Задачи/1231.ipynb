{
 "cells": [
  {
   "cell_type": "markdown",
   "id": "a9690422",
   "metadata": {},
   "source": [
    "### 1231 ###\n",
    "# 18% #\n",
    "Задан целочисленный массив, состоящий из N элементов. Требуется посчитать число инверсий (обмена значений соседних элементов массива) в процессе сортировки элементов массива по неубыванию при использовании алгоритма сортировки «пузырьком» (BubbleSort).\n",
    "\n",
    "\n",
    "<https://acmp.ru/asp/do/index.asp?main=task&id_course=2&id_section=12&id_topic=8&id_problem=740>"
   ]
  },
  {
   "cell_type": "code",
   "execution_count": 2,
   "id": "95ee0595",
   "metadata": {},
   "outputs": [
    {
     "name": "stdout",
     "output_type": "stream",
     "text": [
      "3\n"
     ]
    }
   ],
   "source": [
    "a = int(input())\n",
    "value = list(map(int, input().split()))\n",
    "L = len(value)\n",
    "count = 0\n",
    "for i in range(L - 1):\n",
    "    for j in range(L - 1 - i):\n",
    "        if value[j] > value[j + 1]:\n",
    "            value[j], value[j + 1] = value[j + 1], value[j]\n",
    "            count += 1\n",
    "print(count)\n",
    "\n"
   ]
  }
 ],
 "metadata": {
  "kernelspec": {
   "display_name": "Python 3",
   "language": "python",
   "name": "python3"
  },
  "language_info": {
   "codemirror_mode": {
    "name": "ipython",
    "version": 3
   },
   "file_extension": ".py",
   "mimetype": "text/x-python",
   "name": "python",
   "nbconvert_exporter": "python",
   "pygments_lexer": "ipython3",
   "version": "3.12.5"
  }
 },
 "nbformat": 4,
 "nbformat_minor": 5
}
