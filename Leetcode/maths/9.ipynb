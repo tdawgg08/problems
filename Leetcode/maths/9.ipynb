{
 "cells": [
  {
   "cell_type": "markdown",
   "id": "5665abe3",
   "metadata": {},
   "source": [
    "# 9. Число-палиндром #\n",
    "Дано целое число x, верните true, если x - палиндром, false - иначе.\n",
    "\n",
    "### Пример 1: ###\n",
    "\n",
    "Ввод: x = 121\n",
    "Вывод: true\n",
    "Пояснение: 121 читается как 121 как слева направо, так и справа налево.\n",
    "### Пример 2: ###\n",
    "\n",
    "Ввод: x = -121\n",
    "Вывод: false\n",
    "Пояснение: Слева направо число -121 читается как -121, в то время как справа налево оно читается как 121-. Следовательно, это не палиндром.\n",
    "### Пример 3: ###\n",
    "\n",
    "Ввод: x = 10\n",
    "Вывод: false\n",
    "Пояснение: Читается как 01 справа налево, следовательно, это не палиндром.\n",
    "\n",
    "<https://leetcode.com/problems/palindrome-number/description/?envType=problem-list-v2&envId=math>"
   ]
  },
  {
   "cell_type": "code",
   "execution_count": 17,
   "id": "ab394084",
   "metadata": {},
   "outputs": [
    {
     "name": "stdout",
     "output_type": "stream",
     "text": [
      "True\n"
     ]
    }
   ],
   "source": [
    "class Solution:\n",
    "    def isPalindrome(self, x : int) -> bool:\n",
    "        s = str()\n",
    "        if x < 0:\n",
    "            return False\n",
    "        else:\n",
    "            for i in range(len(s) // 2):\n",
    "                if s[i] != s[-i - 1]:\n",
    "                    return False\n",
    "            return True\n",
    "\n",
    "solution = Solution()\n",
    "x = int(input())\n",
    "print(solution.isPalindrome(x))            \n"
   ]
  }
 ],
 "metadata": {
  "kernelspec": {
   "display_name": ".venv",
   "language": "python",
   "name": "python3"
  },
  "language_info": {
   "codemirror_mode": {
    "name": "ipython",
    "version": 3
   },
   "file_extension": ".py",
   "mimetype": "text/x-python",
   "name": "python",
   "nbconvert_exporter": "python",
   "pygments_lexer": "ipython3",
   "version": "3.12.6"
  }
 },
 "nbformat": 4,
 "nbformat_minor": 5
}
