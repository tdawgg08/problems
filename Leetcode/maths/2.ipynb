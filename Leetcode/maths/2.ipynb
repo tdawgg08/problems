{
 "cells": [
  {
   "cell_type": "markdown",
   "id": "7e4c6a4a",
   "metadata": {},
   "source": [
    "# 2. Сложить два числа #\n",
    "\n",
    "Вам даны два непустых связных списка, представляющих собой два неотрицательных целых числа. Цифры в них хранятся в обратном порядке, и каждый из их узлов содержит одну цифру. Сложите два числа и верните сумму в виде связного списка.\n",
    "\n",
    "Гарантируется, что эти два числа не содержат ведущих нулей, за исключением самого числа 0.\n",
    "\n",
    "### Пример 1: ###\n",
    "Ввод: l1 = [2,4,3], l2 = [5,6,4]\n",
    "Вывод: [7,0,8]\n",
    "Пояснение: 342 + 465 = 807.\n",
    "\n",
    "### Пример 2: ###\n",
    "Ввод: l1 = [0], l2 = [0]\n",
    "Вывод: [0]\n",
    "\n",
    "### Пример 3: ###\n",
    "Ввод: l1 = [9,9,9,9,9,9,9], l2 = [9,9,9,9]\n",
    "Вывод: [8,9,9,9,0,0,0,1]\n",
    "\n",
    "<https://leetcode.com/problems/add-two-numbers/description/?envType=problem-list-v2&envId=math&>"
   ]
  },
  {
   "cell_type": "code",
   "execution_count": null,
   "id": "3a16ea5a",
   "metadata": {},
   "outputs": [],
   "source": [
    "from typing import Optional\n",
    "class ListNode:\n",
    "    def __init__(self, val=0, next=None):\n",
    "        self.val = val\n",
    "        self.next = next\n",
    "\n",
    "class Solution:\n",
    "    def addTwoNumbers(self, l1: Optional[ListNode], l2: Optional[ListNode]) -> Optional[ListNode]:\n",
    "        "
   ]
  }
 ],
 "metadata": {
  "kernelspec": {
   "display_name": ".venv",
   "language": "python",
   "name": "python3"
  },
  "language_info": {
   "name": "python",
   "version": "3.12.6"
  }
 },
 "nbformat": 4,
 "nbformat_minor": 5
}
