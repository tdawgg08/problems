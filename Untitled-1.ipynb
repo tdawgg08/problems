{
 "cells": [
  {
   "cell_type": "code",
   "execution_count": 1,
   "id": "6e04e2a0",
   "metadata": {},
   "outputs": [
    {
     "name": "stdout",
     "output_type": "stream",
     "text": [
      "25\n"
     ]
    }
   ],
   "source": [
    "double = lambda x: x**2\n",
    "print(double(5))"
   ]
  },
  {
   "cell_type": "code",
   "execution_count": null,
   "id": "7cc26ca3",
   "metadata": {},
   "outputs": [
    {
     "name": "stdout",
     "output_type": "stream",
     "text": [
      "125\n"
     ]
    }
   ],
   "source": [
    "lambda_cube = lambda y: y*y*y\n",
    "\n",
    "print(lambda_cube(5))\n"
   ]
  },
  {
   "cell_type": "code",
   "execution_count": 4,
   "id": "cac1b3bd",
   "metadata": {},
   "outputs": [
    {
     "name": "stdout",
     "output_type": "stream",
     "text": [
      "[2, 4, 6, 8, 10]\n"
     ]
    }
   ],
   "source": [
    "my_list = [1, 2, 3, 4, 5, 6, 7, 8, 9, 10]\n",
    "new_list = list(filter(lambda x: (x % 2 == 0), my_list))\n",
    "print(new_list)"
   ]
  },
  {
   "cell_type": "code",
   "execution_count": 9,
   "id": "829a4993",
   "metadata": {},
   "outputs": [
    {
     "name": "stdout",
     "output_type": "stream",
     "text": [
      "1 4 9 16 25 36 49 64 81 100\n"
     ]
    }
   ],
   "source": [
    "two_my_list = [1, 2, 3, 4, 5, 6, 7, 8, 9, 10]\n",
    "two_new_list = list(map(lambda x: x**2, two_my_list))\n",
    "print(*two_new_list)"
   ]
  },
  {
   "cell_type": "code",
   "execution_count": 11,
   "id": "36dfb38b",
   "metadata": {},
   "outputs": [
    {
     "name": "stdout",
     "output_type": "stream",
     "text": [
      "6\n"
     ]
    }
   ],
   "source": [
    "from functools import reduce\n",
    "\n",
    "reduce_list = [1, 2, 3]\n",
    "fuck = reduce((lambda x, y : x + y), reduce_list)\n",
    "print(fuck)"
   ]
  },
  {
   "cell_type": "code",
   "execution_count": 17,
   "id": "1dc3803f",
   "metadata": {},
   "outputs": [
    {
     "name": "stdout",
     "output_type": "stream",
     "text": [
      "[<function <lambda> at 0x000002CC29FAC0E0>, <function <lambda> at 0x000002CC29FC09A0>, <function <lambda> at 0x000002CC29FC0540>, <function <lambda> at 0x000002CC29FC05E0>, <function <lambda> at 0x000002CC29FC0360>, <function <lambda> at 0x000002CC29FC0220>, <function <lambda> at 0x000002CC29FC0180>, <function <lambda> at 0x000002CC29FC02C0>, <function <lambda> at 0x000002CC29FC00E0>, <function <lambda> at 0x000002CC29FC0040>]\n",
      "10\n",
      "20\n",
      "30\n",
      "40\n",
      "50\n",
      "60\n",
      "70\n",
      "80\n",
      "90\n",
      "100\n"
     ]
    }
   ],
   "source": [
    "tables = [lambda x = x: x  * 10 for x in range(1, 11)]\n",
    "print(tables)\n",
    "for table in tables:\n",
    "    print(table())"
   ]
  }
 ],
 "metadata": {
  "kernelspec": {
   "display_name": "Python 3",
   "language": "python",
   "name": "python3"
  },
  "language_info": {
   "codemirror_mode": {
    "name": "ipython",
    "version": 3
   },
   "file_extension": ".py",
   "mimetype": "text/x-python",
   "name": "python",
   "nbconvert_exporter": "python",
   "pygments_lexer": "ipython3",
   "version": "3.12.5"
  }
 },
 "nbformat": 4,
 "nbformat_minor": 5
}
